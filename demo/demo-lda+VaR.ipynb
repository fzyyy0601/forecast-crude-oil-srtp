{
 "cells": [
  {
   "cell_type": "code",
   "execution_count": 1,
   "metadata": {},
   "outputs": [],
   "source": [
    "import pandas as pd\n",
    "import numpy as np\n",
    "import gensim\n",
    "from nltk.corpus import stopwords\n",
    "import matplotlib.pyplot as plt\n",
    "import gensim.corpora as corpora\n",
    "data=pd.read_excel('d:/srtp/content+price-684t.xlsx')\n",
    "from gensim.utils import simple_preprocess\n",
    "import spacy\n",
    "nlp=spacy.load('en_core_web_sm',disable=['parser','ner'])"
   ]
  },
  {
   "cell_type": "code",
   "execution_count": 2,
   "metadata": {},
   "outputs": [],
   "source": [
    "def sent_to_words(sentences):\n",
    "    for sentence in sentences:\n",
    "        yield(gensim.utils.simple_preprocess(str(sentence),deacc=True))\n",
    "data_words=list(sent_to_words(data['content'][:10]))\n",
    "def remove_stopwords(texts):\n",
    "    nonstop=[]\n",
    "    a=[]\n",
    "    for doc in texts:\n",
    "        for w in simple_preprocess(str(doc)):\n",
    "                if w not in stopwords.words('english'):\n",
    "                    a.append(w)\n",
    "        nonstop.append(a)\n",
    "        a=[]\n",
    "    return nonstop\n",
    "data_words_nostops = remove_stopwords(data_words)\n",
    "def lemmatization(texts,allowed_postage=['NOUN','ADJ','VERB','ADV']):\n",
    "    texts_out=[]\n",
    "    for sent in texts:\n",
    "        doc=nlp(\" \".join(sent))\n",
    "        texts_out.append([token.lemma_ for token in doc if token.pos_ in allowed_postage])\n",
    "    return texts_out\n",
    "data_lemmatized=lemmatization(data_words_nostops,allowed_postage=['NOUN','ADJ','VERB','ADV'])\n",
    "#doc2bow 时gensim中封装的一个方法 主要用于实现bow模型\n",
    "#create dictionary\n",
    "id2word=corpora.Dictionary(data_lemmatized)\n",
    "#create corpus\n",
    "texts=data_lemmatized\n",
    "#term  document frequenct\n",
    "corpus=[id2word.doc2bow(text) for text in texts]"
   ]
  },
  {
   "cell_type": "code",
   "execution_count": 3,
   "metadata": {},
   "outputs": [],
   "source": [
    "lda_model=gensim.models.ldamodel.LdaModel(corpus=corpus,id2word=id2word,\n",
    "                                         num_topics=3,random_state=100,\n",
    "                                         update_every=1,chunksize=100,\n",
    "                                         passes=20,alpha='auto',per_word_topics=True)"
   ]
  },
  {
   "cell_type": "code",
   "execution_count": 4,
   "metadata": {},
   "outputs": [
    {
     "name": "stdout",
     "output_type": "stream",
     "text": [
      "[(0,\n",
      "  '0.024*\"say\" + 0.011*\"oil\" + 0.008*\"percent\" + 0.008*\"price\" + '\n",
      "  '0.007*\"output\" + 0.006*\"production\" + 0.006*\"year\" + 0.006*\"cut\" + '\n",
      "  '0.006*\"rdquo\" + 0.006*\"market\"'),\n",
      " (1,\n",
      "  '0.021*\"say\" + 0.010*\"fuel\" + 0.007*\"year\" + 0.007*\"gas\" + 0.005*\"high\" + '\n",
      "  '0.005*\"report\" + 0.005*\"new\" + 0.005*\"price\" + 0.005*\"oil\" + '\n",
      "  '0.004*\"gasoline\"'),\n",
      " (2,\n",
      "  '0.013*\"say\" + 0.008*\"game\" + 0.008*\"year\" + 0.006*\"team\" + 0.006*\"goal\" + '\n",
      "  '0.006*\"point\" + 0.005*\"week\" + 0.005*\"oil\" + 0.005*\"big\" + 0.004*\"last\"')]\n"
     ]
    }
   ],
   "source": [
    "import pprint\n",
    "pprint.pprint(lda_model.print_topics())"
   ]
  },
  {
   "cell_type": "code",
   "execution_count": 5,
   "metadata": {},
   "outputs": [],
   "source": [
    "topics_test = lda_model.get_document_topics(corpus)     \n",
    "a=[]\n",
    "for i in range(len(topics_test)):\n",
    "    #print(topics_test[i])\n",
    "    a.append(topics_test[i])"
   ]
  },
  {
   "cell_type": "code",
   "execution_count": 6,
   "metadata": {
    "scrolled": false
   },
   "outputs": [
    {
     "name": "stderr",
     "output_type": "stream",
     "text": [
      "Using TensorFlow backend.\n",
      "C:\\Users\\冯ziyue\\AppData\\Local\\Programs\\Python\\Python37\\lib\\site-packages\\tensorflow\\python\\framework\\dtypes.py:526: FutureWarning: Passing (type, 1) or '1type' as a synonym of type is deprecated; in a future version of numpy, it will be understood as (type, (1,)) / '(1,)type'.\n",
      "  _np_qint8 = np.dtype([(\"qint8\", np.int8, 1)])\n",
      "C:\\Users\\冯ziyue\\AppData\\Local\\Programs\\Python\\Python37\\lib\\site-packages\\tensorflow\\python\\framework\\dtypes.py:527: FutureWarning: Passing (type, 1) or '1type' as a synonym of type is deprecated; in a future version of numpy, it will be understood as (type, (1,)) / '(1,)type'.\n",
      "  _np_quint8 = np.dtype([(\"quint8\", np.uint8, 1)])\n",
      "C:\\Users\\冯ziyue\\AppData\\Local\\Programs\\Python\\Python37\\lib\\site-packages\\tensorflow\\python\\framework\\dtypes.py:528: FutureWarning: Passing (type, 1) or '1type' as a synonym of type is deprecated; in a future version of numpy, it will be understood as (type, (1,)) / '(1,)type'.\n",
      "  _np_qint16 = np.dtype([(\"qint16\", np.int16, 1)])\n",
      "C:\\Users\\冯ziyue\\AppData\\Local\\Programs\\Python\\Python37\\lib\\site-packages\\tensorflow\\python\\framework\\dtypes.py:529: FutureWarning: Passing (type, 1) or '1type' as a synonym of type is deprecated; in a future version of numpy, it will be understood as (type, (1,)) / '(1,)type'.\n",
      "  _np_quint16 = np.dtype([(\"quint16\", np.uint16, 1)])\n",
      "C:\\Users\\冯ziyue\\AppData\\Local\\Programs\\Python\\Python37\\lib\\site-packages\\tensorflow\\python\\framework\\dtypes.py:530: FutureWarning: Passing (type, 1) or '1type' as a synonym of type is deprecated; in a future version of numpy, it will be understood as (type, (1,)) / '(1,)type'.\n",
      "  _np_qint32 = np.dtype([(\"qint32\", np.int32, 1)])\n",
      "C:\\Users\\冯ziyue\\AppData\\Local\\Programs\\Python\\Python37\\lib\\site-packages\\tensorflow\\python\\framework\\dtypes.py:535: FutureWarning: Passing (type, 1) or '1type' as a synonym of type is deprecated; in a future version of numpy, it will be understood as (type, (1,)) / '(1,)type'.\n",
      "  np_resource = np.dtype([(\"resource\", np.ubyte, 1)])\n"
     ]
    }
   ],
   "source": [
    "from keras import models\n",
    "from keras import layers\n",
    "from keras.models import Sequential, Model\n",
    "from keras.layers import Dense, Embedding, Activation, merge, Input, Lambda, Reshape\n",
    "def build_model1():\n",
    "    model=Sequential()\n",
    "    model.add(Dense(64,activation='relu',input_shape=(3,)))\n",
    "    model.add(Dense(64,activation='relu'))\n",
    "    model.add(Dense(1))\n",
    "    model.compile(optimizer='adam',loss='mse',metrics=['accuracy'])\n",
    "    print(model.summary())\n",
    "    return model"
   ]
  },
  {
   "cell_type": "code",
   "execution_count": 7,
   "metadata": {},
   "outputs": [],
   "source": [
    "#y=data['oilprice'][:20]\n",
    "from sklearn.preprocessing import MinMaxScaler\n",
    "min_max_scaler = MinMaxScaler()\n",
    "y0= min_max_scaler.fit_transform(data['oilprice'][:10].values.reshape(-1,1))\n",
    "y0=map(lambda x:x[0],y0)\n",
    "y0=pd.Series(y0)\n",
    "def procee(a):\n",
    "    b=[]\n",
    "    for s in a:\n",
    "        if len(s)==1:\n",
    "            if s[0][0]==0:\n",
    "                b.append([s[0][1],0,0])\n",
    "            elif s[0][0]==1:\n",
    "                b.append([0,s[0][1],0])\n",
    "            else:\n",
    "                b.append([0,0,s[0][1]])\n",
    "        elif len(s)==2:\n",
    "            if s[0][0]==0 and s[1][0]==1:\n",
    "                b.append([s[0][1],s[1][1],0])\n",
    "            elif s[0][0]==0 and s[1][0]==2:\n",
    "                b.append([s[0][1],0,s[1][1]])\n",
    "            else:\n",
    "                b.append([0,s[0][1],s[1][1]])\n",
    "        elif len(s)==3:\n",
    "            b.append([s[0][1],s[1][1],s[2][1]])\n",
    "    return b"
   ]
  },
  {
   "cell_type": "code",
   "execution_count": 8,
   "metadata": {},
   "outputs": [
    {
     "name": "stdout",
     "output_type": "stream",
     "text": [
      "WARNING:tensorflow:From C:\\Users\\冯ziyue\\AppData\\Local\\Programs\\Python\\Python37\\lib\\site-packages\\tensorflow\\python\\framework\\op_def_library.py:263: colocate_with (from tensorflow.python.framework.ops) is deprecated and will be removed in a future version.\n",
      "Instructions for updating:\n",
      "Colocations handled automatically by placer.\n",
      "_________________________________________________________________\n",
      "Layer (type)                 Output Shape              Param #   \n",
      "=================================================================\n",
      "dense_1 (Dense)              (None, 64)                256       \n",
      "_________________________________________________________________\n",
      "dense_2 (Dense)              (None, 64)                4160      \n",
      "_________________________________________________________________\n",
      "dense_3 (Dense)              (None, 1)                 65        \n",
      "=================================================================\n",
      "Total params: 4,481\n",
      "Trainable params: 4,481\n",
      "Non-trainable params: 0\n",
      "_________________________________________________________________\n",
      "None\n"
     ]
    }
   ],
   "source": [
    "m1=build_model1()"
   ]
  },
  {
   "cell_type": "code",
   "execution_count": 10,
   "metadata": {},
   "outputs": [],
   "source": [
    "\n",
    "data_words1=list(sent_to_words(data['content'][20:30]))\n",
    "data_words_nostops1 = remove_stopwords(data_words1)\n",
    "data_lemmatized1=lemmatization(data_words_nostops,allowed_postage=['NOUN','ADJ','VERB','ADV'])\n",
    "id2word=corpora.Dictionary(data_lemmatized1)\n",
    "texts1=data_lemmatized1\n",
    "#term  document frequenct\n",
    "corpus1=[id2word.doc2bow(text) for text in texts1]\n",
    "topics_test = lda_model.get_document_topics(corpus1) \n",
    "\n",
    "ba=[]\n",
    "\n",
    "for i in range(len(topics_test)):\n",
    "    ba.append(topics_test[i])"
   ]
  },
  {
   "cell_type": "code",
   "execution_count": 15,
   "metadata": {},
   "outputs": [
    {
     "name": "stdout",
     "output_type": "stream",
     "text": [
      "WARNING:tensorflow:From C:\\Users\\冯ziyue\\AppData\\Local\\Programs\\Python\\Python37\\lib\\site-packages\\tensorflow\\python\\ops\\math_ops.py:3066: to_int32 (from tensorflow.python.ops.math_ops) is deprecated and will be removed in a future version.\n",
      "Instructions for updating:\n",
      "Use tf.cast instead.\n",
      "Train on 10 samples, validate on 10 samples\n",
      "Epoch 1/3\n",
      "10/10 [==============================] - 9s 880ms/step - loss: 0.3440 - acc: 0.1000 - val_loss: 0.1354 - val_acc: 0.0000e+00\n",
      "Epoch 2/3\n",
      "10/10 [==============================] - 0s 3ms/step - loss: 0.3108 - acc: 0.1000 - val_loss: 0.1150 - val_acc: 0.0000e+00\n",
      "Epoch 3/3\n",
      "10/10 [==============================] - 0s 2ms/step - loss: 0.2810 - acc: 0.1000 - val_loss: 0.0972 - val_acc: 0.0000e+00\n"
     ]
    }
   ],
   "source": [
    "\n",
    "x_1=pd.DataFrame(procee(a),dtype='float64')\n",
    "x_2=pd.DataFrame(procee(ba),dtype='float64')\n",
    "yy=min_max_scaler.transform(data['oilprice'][20:30].values.reshape(-1,1))\n",
    "y1=map(lambda x:x[0],yy)\n",
    "y1=pd.Series(y1)\n",
    "\n",
    "history=m1.fit(x_1,y0,batch_size=10,epochs=3,validation_data=(x_2,y1))"
   ]
  },
  {
   "cell_type": "code",
   "execution_count": 22,
   "metadata": {},
   "outputs": [
    {
     "name": "stdout",
     "output_type": "stream",
     "text": [
      "[array([-0.12716134], dtype=float32), array([-0.05822693], dtype=float32), array([-0.03169054], dtype=float32), array([-0.09792744], dtype=float32), array([-0.10158539], dtype=float32), array([-0.07947235], dtype=float32), array([-0.42011514], dtype=float32), array([-0.53412485], dtype=float32), array([-0.48123482], dtype=float32), array([-0.48125228], dtype=float32)]\n",
      "mse: 0.09717667245787057\n"
     ]
    },
    {
     "data": {
      "text/plain": [
       "[<matplotlib.lines.Line2D at 0x291984cca08>]"
      ]
     },
     "execution_count": 22,
     "metadata": {},
     "output_type": "execute_result"
    },
    {
     "data": {
      "image/png": "[encoded data removed]",
      "text/plain": [
       "<Figure size 432x288 with 1 Axes>"
      ]
     },
     "metadata": {
      "needs_background": "light"
     },
     "output_type": "display_data"
    }
   ],
   "source": [
    "pre_y=m1.predict(x_2)\n",
    "diff=[]\n",
    "for i in range(len(y1)):\n",
    "    diff.append(pre_y[i]-y1[i])\n",
    "print(diff)\n",
    "from sklearn.metrics import mean_squared_error\n",
    "print('mse:',mean_squared_error(pre_y,y1))\n",
    "import matplotlib.pyplot as plt\n",
    "plt.plot(range(0,10),diff,':',c='r')"
   ]
  },
  {
   "cell_type": "code",
   "execution_count": 23,
   "metadata": {},
   "outputs": [
    {
     "data": {
      "text/plain": [
       "[<matplotlib.lines.Line2D at 0x291f2a74748>]"
      ]
     },
     "execution_count": 23,
     "metadata": {},
     "output_type": "execute_result"
    },
    {
     "data": {
      "image/png": "[encoded data removed]",
      "text/plain": [
       "<Figure size 432x288 with 1 Axes>"
      ]
     },
     "metadata": {
      "needs_background": "light"
     },
     "output_type": "display_data"
    }
   ],
   "source": [
    "plt.plot(range(0,10),diff,':',c='r')"
   ]
  },
  {
   "cell_type": "code",
   "execution_count": 86,
   "metadata": {},
   "outputs": [
    {
     "name": "stdout",
     "output_type": "stream",
     "text": [
      "(20,)\n"
     ]
    }
   ],
   "source": [
    "print(x_2.shape)"
   ]
  },
  {
   "cell_type": "code",
   "execution_count": 88,
   "metadata": {},
   "outputs": [
    {
     "name": "stdout",
     "output_type": "stream",
     "text": [
      "(10,)\n"
     ]
    }
   ],
   "source": [
    "print(data['oilprice'][20:30].shape)"
   ]
  },
  {
   "cell_type": "code",
   "execution_count": null,
   "metadata": {},
   "outputs": [],
   "source": [
    " "
   ]
  }
 ],
 "metadata": {
  "kernelspec": {
   "display_name": "Python 3.7.4 64-bit",
   "language": "python",
   "name": "python37464bitf12cc30323ac4339ab68ac416466907d"
  },
  "language_info": {
   "codemirror_mode": {
    "name": "ipython",
    "version": 3
   },
   "file_extension": ".py",
   "mimetype": "text/x-python",
   "name": "python",
   "nbconvert_exporter": "python",
   "pygments_lexer": "ipython3",
   "version": "3.7.4"
  }
 },
 "nbformat": 4,
 "nbformat_minor": 4
}
